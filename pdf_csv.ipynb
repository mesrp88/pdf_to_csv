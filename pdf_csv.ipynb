{
  "nbformat": 4,
  "nbformat_minor": 0,
  "metadata": {
    "colab": {
      "name": "pdf_csv.ipynb",
      "provenance": [],
      "authorship_tag": "ABX9TyP6VwQwcaxPpAU0yIUSHsdQ",
      "include_colab_link": true
    },
    "kernelspec": {
      "name": "python3",
      "display_name": "Python 3"
    }
  },
  "cells": [
    {
      "cell_type": "markdown",
      "metadata": {
        "id": "view-in-github",
        "colab_type": "text"
      },
      "source": [
        "<a href=\"https://colab.research.google.com/github/mesrp88/pdf_to_csv/blob/main/pdf_csv.ipynb\" target=\"_parent\"><img src=\"https://colab.research.google.com/assets/colab-badge.svg\" alt=\"Open In Colab\"/></a>"
      ]
    },
    {
      "cell_type": "code",
      "metadata": {
        "colab": {
          "base_uri": "https://localhost:8080/"
        },
        "id": "rNRtK9dkchIh",
        "outputId": "fbc89879-3fad-4202-c7b6-ffc3658723f6"
      },
      "source": [
        "pip install tabula-py"
      ],
      "execution_count": 3,
      "outputs": [
        {
          "output_type": "stream",
          "text": [
            "Collecting tabula-py\n",
            "\u001b[?25l  Downloading https://files.pythonhosted.org/packages/cf/29/d6cb0d77ef46d84d35cffa09cf42c73b373aea664d28604eab6818f8a47c/tabula_py-2.2.0-py3-none-any.whl (11.7MB)\n",
            "\u001b[K     |████████████████████████████████| 11.7MB 312kB/s \n",
            "\u001b[?25hCollecting distro\n",
            "  Downloading https://files.pythonhosted.org/packages/25/b7/b3c4270a11414cb22c6352ebc7a83aaa3712043be29daa05018fd5a5c956/distro-1.5.0-py2.py3-none-any.whl\n",
            "Requirement already satisfied: pandas>=0.25.3 in /usr/local/lib/python3.6/dist-packages (from tabula-py) (1.1.5)\n",
            "Requirement already satisfied: numpy in /usr/local/lib/python3.6/dist-packages (from tabula-py) (1.19.5)\n",
            "Requirement already satisfied: python-dateutil>=2.7.3 in /usr/local/lib/python3.6/dist-packages (from pandas>=0.25.3->tabula-py) (2.8.1)\n",
            "Requirement already satisfied: pytz>=2017.2 in /usr/local/lib/python3.6/dist-packages (from pandas>=0.25.3->tabula-py) (2018.9)\n",
            "Requirement already satisfied: six>=1.5 in /usr/local/lib/python3.6/dist-packages (from python-dateutil>=2.7.3->pandas>=0.25.3->tabula-py) (1.15.0)\n",
            "Installing collected packages: distro, tabula-py\n",
            "Successfully installed distro-1.5.0 tabula-py-2.2.0\n"
          ],
          "name": "stdout"
        }
      ]
    },
    {
      "cell_type": "code",
      "metadata": {
        "id": "1WDSNz7xcLaS"
      },
      "source": [
        "import pandas as pd\r\n",
        "import tabula"
      ],
      "execution_count": 4,
      "outputs": []
    },
    {
      "cell_type": "code",
      "metadata": {
        "id": "fmnKKz0acWyd"
      },
      "source": [
        "file_path='/content/ioe.pdf'\r\n",
        "df = tabula.read_pdf(file_path, pages='all')"
      ],
      "execution_count": 6,
      "outputs": []
    },
    {
      "cell_type": "code",
      "metadata": {
        "id": "7opu-23MeZcD"
      },
      "source": [
        "tabula.convert_into(file_path, \"output.csv\", output_format=\"csv\", pages='all')"
      ],
      "execution_count": 14,
      "outputs": []
    },
    {
      "cell_type": "code",
      "metadata": {
        "colab": {
          "base_uri": "https://localhost:8080/",
          "height": 17
        },
        "id": "UfeM58xoeqS2",
        "outputId": "5975b5c7-0956-478d-92d8-dea16eb84907"
      },
      "source": [
        "from google.colab import files\r\n",
        "\r\n",
        "        \r\n",
        "files.download('output.csv')"
      ],
      "execution_count": 15,
      "outputs": [
        {
          "output_type": "display_data",
          "data": {
            "application/javascript": [
              "\n",
              "    async function download(id, filename, size) {\n",
              "      if (!google.colab.kernel.accessAllowed) {\n",
              "        return;\n",
              "      }\n",
              "      const div = document.createElement('div');\n",
              "      const label = document.createElement('label');\n",
              "      label.textContent = `Downloading \"${filename}\": `;\n",
              "      div.appendChild(label);\n",
              "      const progress = document.createElement('progress');\n",
              "      progress.max = size;\n",
              "      div.appendChild(progress);\n",
              "      document.body.appendChild(div);\n",
              "\n",
              "      const buffers = [];\n",
              "      let downloaded = 0;\n",
              "\n",
              "      const channel = await google.colab.kernel.comms.open(id);\n",
              "      // Send a message to notify the kernel that we're ready.\n",
              "      channel.send({})\n",
              "\n",
              "      for await (const message of channel.messages) {\n",
              "        // Send a message to notify the kernel that we're ready.\n",
              "        channel.send({})\n",
              "        if (message.buffers) {\n",
              "          for (const buffer of message.buffers) {\n",
              "            buffers.push(buffer);\n",
              "            downloaded += buffer.byteLength;\n",
              "            progress.value = downloaded;\n",
              "          }\n",
              "        }\n",
              "      }\n",
              "      const blob = new Blob(buffers, {type: 'application/binary'});\n",
              "      const a = document.createElement('a');\n",
              "      a.href = window.URL.createObjectURL(blob);\n",
              "      a.download = filename;\n",
              "      div.appendChild(a);\n",
              "      a.click();\n",
              "      div.remove();\n",
              "    }\n",
              "  "
            ],
            "text/plain": [
              "<IPython.core.display.Javascript object>"
            ]
          },
          "metadata": {
            "tags": []
          }
        },
        {
          "output_type": "display_data",
          "data": {
            "application/javascript": [
              "download(\"download_b7b29208-b77f-486c-ac35-b2894effe959\", \"output.csv\", 350128)"
            ],
            "text/plain": [
              "<IPython.core.display.Javascript object>"
            ]
          },
          "metadata": {
            "tags": []
          }
        }
      ]
    },
    {
      "cell_type": "code",
      "metadata": {
        "id": "H14YFRUHf-gO"
      },
      "source": [
        "df1=pd.read_csv('/content/output.csv')\r\n",
        "df1.head()\r\n",
        "df1=df1.drop(['SNo', 'Remarks'], axis=1)"
      ],
      "execution_count": 19,
      "outputs": []
    },
    {
      "cell_type": "code",
      "metadata": {
        "colab": {
          "base_uri": "https://localhost:8080/",
          "height": 204
        },
        "id": "SHDrLC-UguVu",
        "outputId": "599a261d-c70f-4276-997b-251c6408f447"
      },
      "source": [
        "df1.head()"
      ],
      "execution_count": 20,
      "outputs": [
        {
          "output_type": "execute_result",
          "data": {
            "text/html": [
              "<div>\n",
              "<style scoped>\n",
              "    .dataframe tbody tr th:only-of-type {\n",
              "        vertical-align: middle;\n",
              "    }\n",
              "\n",
              "    .dataframe tbody tr th {\n",
              "        vertical-align: top;\n",
              "    }\n",
              "\n",
              "    .dataframe thead th {\n",
              "        text-align: right;\n",
              "    }\n",
              "</style>\n",
              "<table border=\"1\" class=\"dataframe\">\n",
              "  <thead>\n",
              "    <tr style=\"text-align: right;\">\n",
              "      <th></th>\n",
              "      <th>FormNo</th>\n",
              "      <th>Applicant's Name</th>\n",
              "      <th>Gender</th>\n",
              "      <th>District</th>\n",
              "      <th>Rank</th>\n",
              "    </tr>\n",
              "  </thead>\n",
              "  <tbody>\n",
              "    <tr>\n",
              "      <th>0</th>\n",
              "      <td>2077-220</td>\n",
              "      <td>Aabhash Thapa</td>\n",
              "      <td>Male</td>\n",
              "      <td>Kathmandu</td>\n",
              "      <td>36</td>\n",
              "    </tr>\n",
              "    <tr>\n",
              "      <th>1</th>\n",
              "      <td>2077-9083</td>\n",
              "      <td>Aabhushan Gajurel</td>\n",
              "      <td>Male</td>\n",
              "      <td>Chitawan</td>\n",
              "      <td>1035</td>\n",
              "    </tr>\n",
              "    <tr>\n",
              "      <th>2</th>\n",
              "      <td>2077-1959</td>\n",
              "      <td>Aabhushan Sapkota</td>\n",
              "      <td>Male</td>\n",
              "      <td>Kathmandu</td>\n",
              "      <td>1672</td>\n",
              "    </tr>\n",
              "    <tr>\n",
              "      <th>3</th>\n",
              "      <td>2077-3943</td>\n",
              "      <td>Aabhuson Moon Shrestha</td>\n",
              "      <td>Male</td>\n",
              "      <td>Kathmandu</td>\n",
              "      <td>1774</td>\n",
              "    </tr>\n",
              "    <tr>\n",
              "      <th>4</th>\n",
              "      <td>2077-10839</td>\n",
              "      <td>Aabik Maharjan</td>\n",
              "      <td>Male</td>\n",
              "      <td>Lalitpur</td>\n",
              "      <td>6565</td>\n",
              "    </tr>\n",
              "  </tbody>\n",
              "</table>\n",
              "</div>"
            ],
            "text/plain": [
              "       FormNo        Applicant's Name Gender   District  Rank\n",
              "0    2077-220           Aabhash Thapa   Male  Kathmandu    36\n",
              "1   2077-9083       Aabhushan Gajurel   Male   Chitawan  1035\n",
              "2   2077-1959       Aabhushan Sapkota   Male  Kathmandu  1672\n",
              "3   2077-3943  Aabhuson Moon Shrestha   Male  Kathmandu  1774\n",
              "4  2077-10839          Aabik Maharjan   Male   Lalitpur  6565"
            ]
          },
          "metadata": {
            "tags": []
          },
          "execution_count": 20
        }
      ]
    },
    {
      "cell_type": "code",
      "metadata": {
        "colab": {
          "base_uri": "https://localhost:8080/"
        },
        "id": "02km5tK6i0ov",
        "outputId": "93f196f8-ccff-4dde-9961-f8be517a1015"
      },
      "source": [
        "df1.info()"
      ],
      "execution_count": 27,
      "outputs": [
        {
          "output_type": "stream",
          "text": [
            "<class 'pandas.core.frame.DataFrame'>\n",
            "RangeIndex: 6837 entries, 0 to 6836\n",
            "Data columns (total 5 columns):\n",
            " #   Column            Non-Null Count  Dtype \n",
            "---  ------            --------------  ----- \n",
            " 0   FormNo            6837 non-null   object\n",
            " 1   Applicant's Name  6837 non-null   object\n",
            " 2   Gender            6837 non-null   object\n",
            " 3   District          6837 non-null   object\n",
            " 4   Rank              6837 non-null   object\n",
            "dtypes: object(5)\n",
            "memory usage: 267.2+ KB\n"
          ],
          "name": "stdout"
        }
      ]
    },
    {
      "cell_type": "code",
      "metadata": {
        "colab": {
          "base_uri": "https://localhost:8080/",
          "height": 419
        },
        "id": "-_va3Gy2hDgR",
        "outputId": "25587082-ad6c-4b15-e783-1c50bc0d4d7c"
      },
      "source": [
        " useless= df1[df1[\"Rank\"]=='Rank']\r\n",
        " useless\r\n",
        " "
      ],
      "execution_count": 35,
      "outputs": [
        {
          "output_type": "execute_result",
          "data": {
            "text/html": [
              "<div>\n",
              "<style scoped>\n",
              "    .dataframe tbody tr th:only-of-type {\n",
              "        vertical-align: middle;\n",
              "    }\n",
              "\n",
              "    .dataframe tbody tr th {\n",
              "        vertical-align: top;\n",
              "    }\n",
              "\n",
              "    .dataframe thead th {\n",
              "        text-align: right;\n",
              "    }\n",
              "</style>\n",
              "<table border=\"1\" class=\"dataframe\">\n",
              "  <thead>\n",
              "    <tr style=\"text-align: right;\">\n",
              "      <th></th>\n",
              "      <th>FormNo</th>\n",
              "      <th>Applicant's Name</th>\n",
              "      <th>Gender</th>\n",
              "      <th>District</th>\n",
              "      <th>Rank</th>\n",
              "    </tr>\n",
              "  </thead>\n",
              "  <tbody>\n",
              "    <tr>\n",
              "      <th>60</th>\n",
              "      <td>FormNo</td>\n",
              "      <td>Applicant's Name</td>\n",
              "      <td>Gender</td>\n",
              "      <td>District</td>\n",
              "      <td>Rank</td>\n",
              "    </tr>\n",
              "    <tr>\n",
              "      <th>121</th>\n",
              "      <td>FormNo</td>\n",
              "      <td>Applicant's Name</td>\n",
              "      <td>Gender</td>\n",
              "      <td>District</td>\n",
              "      <td>Rank</td>\n",
              "    </tr>\n",
              "    <tr>\n",
              "      <th>182</th>\n",
              "      <td>FormNo</td>\n",
              "      <td>Applicant's Name</td>\n",
              "      <td>Gender</td>\n",
              "      <td>District</td>\n",
              "      <td>Rank</td>\n",
              "    </tr>\n",
              "    <tr>\n",
              "      <th>243</th>\n",
              "      <td>FormNo</td>\n",
              "      <td>Applicant's Name</td>\n",
              "      <td>Gender</td>\n",
              "      <td>District</td>\n",
              "      <td>Rank</td>\n",
              "    </tr>\n",
              "    <tr>\n",
              "      <th>304</th>\n",
              "      <td>FormNo</td>\n",
              "      <td>Applicant's Name</td>\n",
              "      <td>Gender</td>\n",
              "      <td>District</td>\n",
              "      <td>Rank</td>\n",
              "    </tr>\n",
              "    <tr>\n",
              "      <th>...</th>\n",
              "      <td>...</td>\n",
              "      <td>...</td>\n",
              "      <td>...</td>\n",
              "      <td>...</td>\n",
              "      <td>...</td>\n",
              "    </tr>\n",
              "    <tr>\n",
              "      <th>6587</th>\n",
              "      <td>FormNo</td>\n",
              "      <td>Applicant's Name</td>\n",
              "      <td>Gender</td>\n",
              "      <td>District</td>\n",
              "      <td>Rank</td>\n",
              "    </tr>\n",
              "    <tr>\n",
              "      <th>6648</th>\n",
              "      <td>FormNo</td>\n",
              "      <td>Applicant's Name</td>\n",
              "      <td>Gender</td>\n",
              "      <td>District</td>\n",
              "      <td>Rank</td>\n",
              "    </tr>\n",
              "    <tr>\n",
              "      <th>6709</th>\n",
              "      <td>FormNo</td>\n",
              "      <td>Applicant's Name</td>\n",
              "      <td>Gender</td>\n",
              "      <td>District</td>\n",
              "      <td>Rank</td>\n",
              "    </tr>\n",
              "    <tr>\n",
              "      <th>6770</th>\n",
              "      <td>FormNo</td>\n",
              "      <td>Applicant's Name</td>\n",
              "      <td>Gender</td>\n",
              "      <td>District</td>\n",
              "      <td>Rank</td>\n",
              "    </tr>\n",
              "    <tr>\n",
              "      <th>6831</th>\n",
              "      <td>FormNo</td>\n",
              "      <td>Applicant's Name</td>\n",
              "      <td>Gender</td>\n",
              "      <td>District</td>\n",
              "      <td>Rank</td>\n",
              "    </tr>\n",
              "  </tbody>\n",
              "</table>\n",
              "<p>112 rows × 5 columns</p>\n",
              "</div>"
            ],
            "text/plain": [
              "      FormNo  Applicant's Name  Gender  District  Rank\n",
              "60    FormNo  Applicant's Name  Gender  District  Rank\n",
              "121   FormNo  Applicant's Name  Gender  District  Rank\n",
              "182   FormNo  Applicant's Name  Gender  District  Rank\n",
              "243   FormNo  Applicant's Name  Gender  District  Rank\n",
              "304   FormNo  Applicant's Name  Gender  District  Rank\n",
              "...      ...               ...     ...       ...   ...\n",
              "6587  FormNo  Applicant's Name  Gender  District  Rank\n",
              "6648  FormNo  Applicant's Name  Gender  District  Rank\n",
              "6709  FormNo  Applicant's Name  Gender  District  Rank\n",
              "6770  FormNo  Applicant's Name  Gender  District  Rank\n",
              "6831  FormNo  Applicant's Name  Gender  District  Rank\n",
              "\n",
              "[112 rows x 5 columns]"
            ]
          },
          "metadata": {
            "tags": []
          },
          "execution_count": 35
        }
      ]
    },
    {
      "cell_type": "code",
      "metadata": {
        "id": "ymRnVrIkhjRw"
      },
      "source": [
        "to_delete =list(useless.index)"
      ],
      "execution_count": 38,
      "outputs": []
    },
    {
      "cell_type": "code",
      "metadata": {
        "id": "US4bgQu4jeJS"
      },
      "source": [
        "df1_final=df1.drop(index=to_delete, axis=0)"
      ],
      "execution_count": 40,
      "outputs": []
    },
    {
      "cell_type": "code",
      "metadata": {
        "colab": {
          "base_uri": "https://localhost:8080/",
          "height": 204
        },
        "id": "HEKQ_6l5nWQ_",
        "outputId": "fcee7537-1986-4c44-fb7e-4255ad9f6450"
      },
      "source": [
        "df1_final.head()"
      ],
      "execution_count": 41,
      "outputs": [
        {
          "output_type": "execute_result",
          "data": {
            "text/html": [
              "<div>\n",
              "<style scoped>\n",
              "    .dataframe tbody tr th:only-of-type {\n",
              "        vertical-align: middle;\n",
              "    }\n",
              "\n",
              "    .dataframe tbody tr th {\n",
              "        vertical-align: top;\n",
              "    }\n",
              "\n",
              "    .dataframe thead th {\n",
              "        text-align: right;\n",
              "    }\n",
              "</style>\n",
              "<table border=\"1\" class=\"dataframe\">\n",
              "  <thead>\n",
              "    <tr style=\"text-align: right;\">\n",
              "      <th></th>\n",
              "      <th>FormNo</th>\n",
              "      <th>Applicant's Name</th>\n",
              "      <th>Gender</th>\n",
              "      <th>District</th>\n",
              "      <th>Rank</th>\n",
              "    </tr>\n",
              "  </thead>\n",
              "  <tbody>\n",
              "    <tr>\n",
              "      <th>0</th>\n",
              "      <td>2077-220</td>\n",
              "      <td>Aabhash Thapa</td>\n",
              "      <td>Male</td>\n",
              "      <td>Kathmandu</td>\n",
              "      <td>36</td>\n",
              "    </tr>\n",
              "    <tr>\n",
              "      <th>1</th>\n",
              "      <td>2077-9083</td>\n",
              "      <td>Aabhushan Gajurel</td>\n",
              "      <td>Male</td>\n",
              "      <td>Chitawan</td>\n",
              "      <td>1035</td>\n",
              "    </tr>\n",
              "    <tr>\n",
              "      <th>2</th>\n",
              "      <td>2077-1959</td>\n",
              "      <td>Aabhushan Sapkota</td>\n",
              "      <td>Male</td>\n",
              "      <td>Kathmandu</td>\n",
              "      <td>1672</td>\n",
              "    </tr>\n",
              "    <tr>\n",
              "      <th>3</th>\n",
              "      <td>2077-3943</td>\n",
              "      <td>Aabhuson Moon Shrestha</td>\n",
              "      <td>Male</td>\n",
              "      <td>Kathmandu</td>\n",
              "      <td>1774</td>\n",
              "    </tr>\n",
              "    <tr>\n",
              "      <th>4</th>\n",
              "      <td>2077-10839</td>\n",
              "      <td>Aabik Maharjan</td>\n",
              "      <td>Male</td>\n",
              "      <td>Lalitpur</td>\n",
              "      <td>6565</td>\n",
              "    </tr>\n",
              "  </tbody>\n",
              "</table>\n",
              "</div>"
            ],
            "text/plain": [
              "       FormNo        Applicant's Name Gender   District  Rank\n",
              "0    2077-220           Aabhash Thapa   Male  Kathmandu    36\n",
              "1   2077-9083       Aabhushan Gajurel   Male   Chitawan  1035\n",
              "2   2077-1959       Aabhushan Sapkota   Male  Kathmandu  1672\n",
              "3   2077-3943  Aabhuson Moon Shrestha   Male  Kathmandu  1774\n",
              "4  2077-10839          Aabik Maharjan   Male   Lalitpur  6565"
            ]
          },
          "metadata": {
            "tags": []
          },
          "execution_count": 41
        }
      ]
    },
    {
      "cell_type": "code",
      "metadata": {
        "colab": {
          "base_uri": "https://localhost:8080/"
        },
        "id": "Zea4MwDTnckn",
        "outputId": "97643795-ca9f-403d-d3fc-4a431de43d69"
      },
      "source": [
        "df1_final.info()"
      ],
      "execution_count": 42,
      "outputs": [
        {
          "output_type": "stream",
          "text": [
            "<class 'pandas.core.frame.DataFrame'>\n",
            "Int64Index: 6725 entries, 0 to 6836\n",
            "Data columns (total 5 columns):\n",
            " #   Column            Non-Null Count  Dtype \n",
            "---  ------            --------------  ----- \n",
            " 0   FormNo            6725 non-null   object\n",
            " 1   Applicant's Name  6725 non-null   object\n",
            " 2   Gender            6725 non-null   object\n",
            " 3   District          6725 non-null   object\n",
            " 4   Rank              6725 non-null   object\n",
            "dtypes: object(5)\n",
            "memory usage: 315.2+ KB\n"
          ],
          "name": "stdout"
        }
      ]
    },
    {
      "cell_type": "code",
      "metadata": {
        "id": "A2WXjLfsqDRO"
      },
      "source": [
        "df1_final['Rank']=pd.to_numeric(df1_final['Rank'])"
      ],
      "execution_count": 47,
      "outputs": []
    },
    {
      "cell_type": "code",
      "metadata": {
        "colab": {
          "base_uri": "https://localhost:8080/",
          "height": 204
        },
        "id": "0Ke5B9RgsoE5",
        "outputId": "917b3d77-d17d-445d-8a4c-e99136031088"
      },
      "source": [
        "df1_final.head()"
      ],
      "execution_count": 48,
      "outputs": [
        {
          "output_type": "execute_result",
          "data": {
            "text/html": [
              "<div>\n",
              "<style scoped>\n",
              "    .dataframe tbody tr th:only-of-type {\n",
              "        vertical-align: middle;\n",
              "    }\n",
              "\n",
              "    .dataframe tbody tr th {\n",
              "        vertical-align: top;\n",
              "    }\n",
              "\n",
              "    .dataframe thead th {\n",
              "        text-align: right;\n",
              "    }\n",
              "</style>\n",
              "<table border=\"1\" class=\"dataframe\">\n",
              "  <thead>\n",
              "    <tr style=\"text-align: right;\">\n",
              "      <th></th>\n",
              "      <th>FormNo</th>\n",
              "      <th>Applicant's Name</th>\n",
              "      <th>Gender</th>\n",
              "      <th>District</th>\n",
              "      <th>Rank</th>\n",
              "      <th>rank</th>\n",
              "    </tr>\n",
              "  </thead>\n",
              "  <tbody>\n",
              "    <tr>\n",
              "      <th>0</th>\n",
              "      <td>2077-220</td>\n",
              "      <td>Aabhash Thapa</td>\n",
              "      <td>Male</td>\n",
              "      <td>Kathmandu</td>\n",
              "      <td>36</td>\n",
              "      <td>36</td>\n",
              "    </tr>\n",
              "    <tr>\n",
              "      <th>1</th>\n",
              "      <td>2077-9083</td>\n",
              "      <td>Aabhushan Gajurel</td>\n",
              "      <td>Male</td>\n",
              "      <td>Chitawan</td>\n",
              "      <td>1035</td>\n",
              "      <td>1035</td>\n",
              "    </tr>\n",
              "    <tr>\n",
              "      <th>2</th>\n",
              "      <td>2077-1959</td>\n",
              "      <td>Aabhushan Sapkota</td>\n",
              "      <td>Male</td>\n",
              "      <td>Kathmandu</td>\n",
              "      <td>1672</td>\n",
              "      <td>1672</td>\n",
              "    </tr>\n",
              "    <tr>\n",
              "      <th>3</th>\n",
              "      <td>2077-3943</td>\n",
              "      <td>Aabhuson Moon Shrestha</td>\n",
              "      <td>Male</td>\n",
              "      <td>Kathmandu</td>\n",
              "      <td>1774</td>\n",
              "      <td>1774</td>\n",
              "    </tr>\n",
              "    <tr>\n",
              "      <th>4</th>\n",
              "      <td>2077-10839</td>\n",
              "      <td>Aabik Maharjan</td>\n",
              "      <td>Male</td>\n",
              "      <td>Lalitpur</td>\n",
              "      <td>6565</td>\n",
              "      <td>6565</td>\n",
              "    </tr>\n",
              "  </tbody>\n",
              "</table>\n",
              "</div>"
            ],
            "text/plain": [
              "       FormNo        Applicant's Name Gender   District  Rank  rank\n",
              "0    2077-220           Aabhash Thapa   Male  Kathmandu    36    36\n",
              "1   2077-9083       Aabhushan Gajurel   Male   Chitawan  1035  1035\n",
              "2   2077-1959       Aabhushan Sapkota   Male  Kathmandu  1672  1672\n",
              "3   2077-3943  Aabhuson Moon Shrestha   Male  Kathmandu  1774  1774\n",
              "4  2077-10839          Aabik Maharjan   Male   Lalitpur  6565  6565"
            ]
          },
          "metadata": {
            "tags": []
          },
          "execution_count": 48
        }
      ]
    },
    {
      "cell_type": "code",
      "metadata": {
        "id": "zZQacBUCtCfv"
      },
      "source": [
        "df1_final.drop('rank',axis=1, inplace=True)"
      ],
      "execution_count": 51,
      "outputs": []
    },
    {
      "cell_type": "code",
      "metadata": {
        "colab": {
          "base_uri": "https://localhost:8080/",
          "height": 204
        },
        "id": "fI6Egn-1tKvU",
        "outputId": "180ba622-a387-4853-f93e-665d656fa66d"
      },
      "source": [
        "df1_final.head()"
      ],
      "execution_count": 52,
      "outputs": [
        {
          "output_type": "execute_result",
          "data": {
            "text/html": [
              "<div>\n",
              "<style scoped>\n",
              "    .dataframe tbody tr th:only-of-type {\n",
              "        vertical-align: middle;\n",
              "    }\n",
              "\n",
              "    .dataframe tbody tr th {\n",
              "        vertical-align: top;\n",
              "    }\n",
              "\n",
              "    .dataframe thead th {\n",
              "        text-align: right;\n",
              "    }\n",
              "</style>\n",
              "<table border=\"1\" class=\"dataframe\">\n",
              "  <thead>\n",
              "    <tr style=\"text-align: right;\">\n",
              "      <th></th>\n",
              "      <th>FormNo</th>\n",
              "      <th>Applicant's Name</th>\n",
              "      <th>Gender</th>\n",
              "      <th>District</th>\n",
              "      <th>Rank</th>\n",
              "    </tr>\n",
              "  </thead>\n",
              "  <tbody>\n",
              "    <tr>\n",
              "      <th>0</th>\n",
              "      <td>2077-220</td>\n",
              "      <td>Aabhash Thapa</td>\n",
              "      <td>Male</td>\n",
              "      <td>Kathmandu</td>\n",
              "      <td>36</td>\n",
              "    </tr>\n",
              "    <tr>\n",
              "      <th>1</th>\n",
              "      <td>2077-9083</td>\n",
              "      <td>Aabhushan Gajurel</td>\n",
              "      <td>Male</td>\n",
              "      <td>Chitawan</td>\n",
              "      <td>1035</td>\n",
              "    </tr>\n",
              "    <tr>\n",
              "      <th>2</th>\n",
              "      <td>2077-1959</td>\n",
              "      <td>Aabhushan Sapkota</td>\n",
              "      <td>Male</td>\n",
              "      <td>Kathmandu</td>\n",
              "      <td>1672</td>\n",
              "    </tr>\n",
              "    <tr>\n",
              "      <th>3</th>\n",
              "      <td>2077-3943</td>\n",
              "      <td>Aabhuson Moon Shrestha</td>\n",
              "      <td>Male</td>\n",
              "      <td>Kathmandu</td>\n",
              "      <td>1774</td>\n",
              "    </tr>\n",
              "    <tr>\n",
              "      <th>4</th>\n",
              "      <td>2077-10839</td>\n",
              "      <td>Aabik Maharjan</td>\n",
              "      <td>Male</td>\n",
              "      <td>Lalitpur</td>\n",
              "      <td>6565</td>\n",
              "    </tr>\n",
              "  </tbody>\n",
              "</table>\n",
              "</div>"
            ],
            "text/plain": [
              "       FormNo        Applicant's Name Gender   District  Rank\n",
              "0    2077-220           Aabhash Thapa   Male  Kathmandu    36\n",
              "1   2077-9083       Aabhushan Gajurel   Male   Chitawan  1035\n",
              "2   2077-1959       Aabhushan Sapkota   Male  Kathmandu  1672\n",
              "3   2077-3943  Aabhuson Moon Shrestha   Male  Kathmandu  1774\n",
              "4  2077-10839          Aabik Maharjan   Male   Lalitpur  6565"
            ]
          },
          "metadata": {
            "tags": []
          },
          "execution_count": 52
        }
      ]
    },
    {
      "cell_type": "code",
      "metadata": {
        "colab": {
          "base_uri": "https://localhost:8080/",
          "height": 419
        },
        "id": "xlnq_nC5tWqq",
        "outputId": "13ed0bc5-1702-474d-f26d-835192e60561"
      },
      "source": [
        "df_order= df1_final.sort_values('Rank')\r\n",
        "df_order"
      ],
      "execution_count": 54,
      "outputs": [
        {
          "output_type": "execute_result",
          "data": {
            "text/html": [
              "<div>\n",
              "<style scoped>\n",
              "    .dataframe tbody tr th:only-of-type {\n",
              "        vertical-align: middle;\n",
              "    }\n",
              "\n",
              "    .dataframe tbody tr th {\n",
              "        vertical-align: top;\n",
              "    }\n",
              "\n",
              "    .dataframe thead th {\n",
              "        text-align: right;\n",
              "    }\n",
              "</style>\n",
              "<table border=\"1\" class=\"dataframe\">\n",
              "  <thead>\n",
              "    <tr style=\"text-align: right;\">\n",
              "      <th></th>\n",
              "      <th>FormNo</th>\n",
              "      <th>Applicant's Name</th>\n",
              "      <th>Gender</th>\n",
              "      <th>District</th>\n",
              "      <th>Rank</th>\n",
              "    </tr>\n",
              "  </thead>\n",
              "  <tbody>\n",
              "    <tr>\n",
              "      <th>6266</th>\n",
              "      <td>2077-2096</td>\n",
              "      <td>Suman Tamang</td>\n",
              "      <td>Male</td>\n",
              "      <td>Solukhumbu</td>\n",
              "      <td>1</td>\n",
              "    </tr>\n",
              "    <tr>\n",
              "      <th>3966</th>\n",
              "      <td>2077-140</td>\n",
              "      <td>Prasun Sitaula</td>\n",
              "      <td>Male</td>\n",
              "      <td>Jhapa</td>\n",
              "      <td>2</td>\n",
              "    </tr>\n",
              "    <tr>\n",
              "      <th>5422</th>\n",
              "      <td>2077-70</td>\n",
              "      <td>Saroj Basnet</td>\n",
              "      <td>Male</td>\n",
              "      <td>Bhojpur</td>\n",
              "      <td>3</td>\n",
              "    </tr>\n",
              "    <tr>\n",
              "      <th>6706</th>\n",
              "      <td>2077-4158</td>\n",
              "      <td>Utsav Manandhar</td>\n",
              "      <td>Male</td>\n",
              "      <td>Kathmandu</td>\n",
              "      <td>4</td>\n",
              "    </tr>\n",
              "    <tr>\n",
              "      <th>2519</th>\n",
              "      <td>2077-3907</td>\n",
              "      <td>Kalpesh Manandhar</td>\n",
              "      <td>Male</td>\n",
              "      <td>Kathmandu</td>\n",
              "      <td>5</td>\n",
              "    </tr>\n",
              "    <tr>\n",
              "      <th>...</th>\n",
              "      <td>...</td>\n",
              "      <td>...</td>\n",
              "      <td>...</td>\n",
              "      <td>...</td>\n",
              "      <td>...</td>\n",
              "    </tr>\n",
              "    <tr>\n",
              "      <th>6289</th>\n",
              "      <td>2077-2065</td>\n",
              "      <td>Sumit Kumar Ray</td>\n",
              "      <td>Male</td>\n",
              "      <td>Mahottari</td>\n",
              "      <td>6721</td>\n",
              "    </tr>\n",
              "    <tr>\n",
              "      <th>5585</th>\n",
              "      <td>2077-6711</td>\n",
              "      <td>Shailesh Tirhut Tharu</td>\n",
              "      <td>Male</td>\n",
              "      <td>Saptari</td>\n",
              "      <td>6722</td>\n",
              "    </tr>\n",
              "    <tr>\n",
              "      <th>5659</th>\n",
              "      <td>2077-10309</td>\n",
              "      <td>Shishir Shrestha</td>\n",
              "      <td>Male</td>\n",
              "      <td>Rupandehi</td>\n",
              "      <td>6723</td>\n",
              "    </tr>\n",
              "    <tr>\n",
              "      <th>1084</th>\n",
              "      <td>2077-8951</td>\n",
              "      <td>Asmita Shrestha</td>\n",
              "      <td>Female</td>\n",
              "      <td>Bhaktapur</td>\n",
              "      <td>6724</td>\n",
              "    </tr>\n",
              "    <tr>\n",
              "      <th>2249</th>\n",
              "      <td>2077-7883</td>\n",
              "      <td>Govind Singh Karki</td>\n",
              "      <td>Male</td>\n",
              "      <td>Darchula</td>\n",
              "      <td>6725</td>\n",
              "    </tr>\n",
              "  </tbody>\n",
              "</table>\n",
              "<p>6725 rows × 5 columns</p>\n",
              "</div>"
            ],
            "text/plain": [
              "          FormNo       Applicant's Name  Gender    District  Rank\n",
              "6266   2077-2096           Suman Tamang    Male  Solukhumbu     1\n",
              "3966    2077-140         Prasun Sitaula    Male       Jhapa     2\n",
              "5422     2077-70           Saroj Basnet    Male     Bhojpur     3\n",
              "6706   2077-4158        Utsav Manandhar    Male   Kathmandu     4\n",
              "2519   2077-3907      Kalpesh Manandhar    Male   Kathmandu     5\n",
              "...          ...                    ...     ...         ...   ...\n",
              "6289   2077-2065        Sumit Kumar Ray    Male   Mahottari  6721\n",
              "5585   2077-6711  Shailesh Tirhut Tharu    Male     Saptari  6722\n",
              "5659  2077-10309       Shishir Shrestha    Male   Rupandehi  6723\n",
              "1084   2077-8951        Asmita Shrestha  Female   Bhaktapur  6724\n",
              "2249   2077-7883     Govind Singh Karki    Male    Darchula  6725\n",
              "\n",
              "[6725 rows x 5 columns]"
            ]
          },
          "metadata": {
            "tags": []
          },
          "execution_count": 54
        }
      ]
    },
    {
      "cell_type": "code",
      "metadata": {
        "id": "iDhahur5tjuq"
      },
      "source": [
        ""
      ],
      "execution_count": null,
      "outputs": []
    }
  ]
}